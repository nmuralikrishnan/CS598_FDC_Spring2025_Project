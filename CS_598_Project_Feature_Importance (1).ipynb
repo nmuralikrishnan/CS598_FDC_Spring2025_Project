{
  "nbformat": 4,
  "nbformat_minor": 0,
  "metadata": {
    "colab": {
      "provenance": []
    },
    "kernelspec": {
      "name": "python3",
      "display_name": "Python 3"
    },
    "language_info": {
      "name": "python"
    }
  },
  "cells": [
    {
      "cell_type": "code",
      "execution_count": 2,
      "metadata": {
        "id": "rgv2c3L5VSa8"
      },
      "outputs": [],
      "source": [
        "import pandas as pd\n",
        "import matplotlib.pyplot as plt\n",
        "import numpy as np\n",
        "import seaborn as sns"
      ]
    },
    {
      "cell_type": "code",
      "source": [
        "df = pd.read_excel('311_Service_Requests_20251022.xls')\n",
        "print(df)"
      ],
      "metadata": {
        "colab": {
          "base_uri": "https://localhost:8080/"
        },
        "id": "vUW3_8OUVkcN",
        "outputId": "e9a085ce-c958-42ef-c2de-26f3af85f583"
      },
      "execution_count": 3,
      "outputs": [
        {
          "output_type": "stream",
          "name": "stdout",
          "text": [
            "           SR_NUMBER                      SR_TYPE SR_SHORT_CODE  \\\n",
            "0      SR25-01948318     Aircraft Noise Complaint           AVN   \n",
            "1      SR25-01948317   Street Light Out Complaint           SFD   \n",
            "2      SR25-01948316     Aircraft Noise Complaint           AVN   \n",
            "3      SR25-01948315    311 INFORMATION ONLY CALL        311IOC   \n",
            "4      SR25-01948314     Aircraft Noise Complaint           AVN   \n",
            "...              ...                          ...           ...   \n",
            "65530  SR25-01869126  Pothole in Street Complaint           PHF   \n",
            "65531  SR25-01869125    311 INFORMATION ONLY CALL        311IOC   \n",
            "65532  SR25-01869124    311 INFORMATION ONLY CALL        311IOC   \n",
            "65533  SR25-01869122    311 INFORMATION ONLY CALL        311IOC   \n",
            "65534  SR25-01869121     Aircraft Noise Complaint           AVN   \n",
            "\n",
            "                        CREATED_DEPARTMENT  \\\n",
            "0                                      NaN   \n",
            "1      CDOT - Department of Transportation   \n",
            "2                                      NaN   \n",
            "3                        311 City Services   \n",
            "4                                      NaN   \n",
            "...                                    ...   \n",
            "65530                    311 City Services   \n",
            "65531                    311 City Services   \n",
            "65532                    311 City Services   \n",
            "65533                    311 City Services   \n",
            "65534                                  NaN   \n",
            "\n",
            "                          OWNER_DEPARTMENT     STATUS      ORIGIN  \\\n",
            "0                                 Aviation  Completed    Internet   \n",
            "1      CDOT - Department of Transportation       Open  Phone Call   \n",
            "2                                 Aviation  Completed    Internet   \n",
            "3                        311 City Services  Completed  Phone Call   \n",
            "4                                 Aviation  Completed    Internet   \n",
            "...                                    ...        ...         ...   \n",
            "65530  CDOT - Department of Transportation  Completed  Phone Call   \n",
            "65531                    311 City Services  Completed  Phone Call   \n",
            "65532                    311 City Services  Completed  Phone Call   \n",
            "65533                    311 City Services  Completed  Phone Call   \n",
            "65534                             Aviation  Completed    Internet   \n",
            "\n",
            "             CREATED_DATE  LAST_MODIFIED_DATE         CLOSED_DATE  ...  \\\n",
            "0     2025-10-22 19:15:30 2025-10-22 19:15:31 2025-10-22 19:15:30  ...   \n",
            "1     2025-10-22 19:15:27 2025-10-22 19:15:32                 NaT  ...   \n",
            "2     2025-10-22 19:15:22 2025-10-22 19:15:23 2025-10-22 19:15:22  ...   \n",
            "3     2025-10-22 19:15:02 2025-10-22 19:15:02 2025-10-22 19:15:02  ...   \n",
            "4     2025-10-22 19:14:59 2025-10-22 19:15:00 2025-10-22 19:15:00  ...   \n",
            "...                   ...                 ...                 ...  ...   \n",
            "65530 2025-10-10 23:27:51 2025-10-15 13:23:25 2025-10-15 13:23:25  ...   \n",
            "65531 2025-10-10 23:26:58 2025-10-10 23:31:35 2025-10-10 23:26:58  ...   \n",
            "65532 2025-10-10 23:26:32 2025-10-10 23:31:54 2025-10-10 23:26:32  ...   \n",
            "65533 2025-10-10 23:25:26 2025-10-10 23:31:35 2025-10-10 23:25:26  ...   \n",
            "65534 2025-10-10 23:24:42 2025-10-10 23:31:54 2025-10-10 23:24:42  ...   \n",
            "\n",
            "      PRECINCT SANITATION_DIVISION_DAYS CREATED_HOUR  CREATED_DAY_OF_WEEK  \\\n",
            "0          NaN                      NaN           19                    4   \n",
            "1         31.0                      NaN           19                    4   \n",
            "2          NaN                      NaN           19                    4   \n",
            "3          NaN                      NaN           19                    4   \n",
            "4          NaN                      NaN           19                    4   \n",
            "...        ...                      ...          ...                  ...   \n",
            "65530     42.0                      NaN           23                    6   \n",
            "65531     46.0                      NaN           23                    6   \n",
            "65532     46.0                      NaN           23                    6   \n",
            "65533     46.0                      NaN           23                    6   \n",
            "65534     27.0                      NaN           23                    6   \n",
            "\n",
            "      CREATED_MONTH  X_COORDINATE  Y_COORDINATE   LATITUDE  LONGITUDE  \\\n",
            "0                10           NaN           NaN        NaN        NaN   \n",
            "1                10  1.166691e+06  1.859599e+06  41.770312 -87.664538   \n",
            "2                10           NaN           NaN        NaN        NaN   \n",
            "3                10           NaN           NaN        NaN        NaN   \n",
            "4                10           NaN           NaN        NaN        NaN   \n",
            "...             ...           ...           ...        ...        ...   \n",
            "65530            10  1.193190e+06  1.837132e+06  41.708054 -87.568140   \n",
            "65531            10  1.162234e+06  1.896561e+06  41.871834 -87.679845   \n",
            "65532            10  1.162234e+06  1.896561e+06  41.871834 -87.679845   \n",
            "65533            10  1.162234e+06  1.896561e+06  41.871834 -87.679845   \n",
            "65534            10  1.105377e+06  1.941044e+06  41.994900 -87.887749   \n",
            "\n",
            "                                  LOCATION  \n",
            "0                                      NaN  \n",
            "1      (41.770311645276, -87.664538011545)  \n",
            "2                                      NaN  \n",
            "3                                      NaN  \n",
            "4                                      NaN  \n",
            "...                                    ...  \n",
            "65530  (41.708054228772, -87.568139872643)  \n",
            "65531   (41.87183400094, -87.679845000002)  \n",
            "65532   (41.87183400094, -87.679845000002)  \n",
            "65533   (41.87183400094, -87.679845000002)  \n",
            "65534  (41.994900000941, -87.887749500002)  \n",
            "\n",
            "[65535 rows x 39 columns]\n"
          ]
        }
      ]
    },
    {
      "cell_type": "code",
      "source": [
        "\n",
        "from sklearn.preprocessing import LabelEncoder\n",
        "from sklearn.ensemble import RandomForestRegressor\n",
        "from sklearn.model_selection import train_test_split\n",
        "\n",
        "# Clean and process date/time columns\n",
        "for col in [\"CREATED_DATE\", \"CLOSED_DATE\"]:\n",
        "    df[col] = pd.to_datetime(df[col], errors=\"coerce\")\n",
        "\n",
        "# Compute time to close\n",
        "df[\"TIME_TO_CLOSE_HOURS\"] = (df[\"CLOSED_DATE\"] - df[\"CREATED_DATE\"]).dt.total_seconds() / 3600\n",
        "\n",
        "# Remove rows without a closed date\n",
        "df = df.dropna(subset=[\"TIME_TO_CLOSE_HOURS\"])\n",
        "\n",
        "feature_cols = [\n",
        "    \"SR_TYPE\",\n",
        "    \"SR_SHORT_CODE\",\n",
        "    \"CREATED_DEPARTMENT\",\n",
        "    \"OWNER_DEPARTMENT\",\n",
        "    \"STATUS\",\n",
        "    \"ORIGIN\",\n",
        "    \"CITY\",\n",
        "    \"STATE\",\n",
        "    \"ZIP_CODE\",\n",
        "    \"COMMUNITY_AREA\",\n",
        "    \"WARD\",\n",
        "    \"ELECTRICAL_DISTRICT\",\n",
        "    \"POLICE_DISTRICT\",\n",
        "    \"CREATED_HOUR\",\n",
        "    \"CREATED_DAY_OF_WEEK\",\n",
        "    \"CREATED_MONTH\",\n",
        "]\n",
        "\n",
        "X = df[feature_cols].copy()\n",
        "y = df[\"TIME_TO_CLOSE_HOURS\"]\n",
        "\n",
        "\n",
        "for col in X.select_dtypes(include=[\"object\"]).columns:\n",
        "    X[col] = X[col].fillna(\"Unknown\")\n",
        "    le = LabelEncoder()\n",
        "    X[col] = le.fit_transform(X[col])\n",
        "\n",
        "# Train/test split\n",
        "X_train, X_test, y_train, y_test = train_test_split(X, y, test_size=0.2, random_state=42)\n",
        "\n",
        "rf = RandomForestRegressor(n_estimators=200, random_state=42)\n",
        "rf.fit(X_train, y_train)\n",
        "\n",
        "# get feature importance\n",
        "importances = pd.Series(rf.feature_importances_, index=X.columns).sort_values(ascending=False)\n",
        "\n",
        "print(\"\\nTop Features Predicting Time to Close:\")\n",
        "print(importances.head(10))\n",
        "\n",
        "\n",
        "plt.figure(figsize=(10, 5))\n",
        "importances.head(10).plot(kind=\"barh\")\n",
        "plt.title(\"Top Features Predicting 311 Request Time to Close\")\n",
        "plt.gca().invert_yaxis()\n",
        "plt.xlabel(\"Feature Importance\")\n",
        "plt.tight_layout()\n",
        "plt.show()"
      ],
      "metadata": {
        "colab": {
          "base_uri": "https://localhost:8080/",
          "height": 733
        },
        "id": "lGlLo3ntWOCi",
        "outputId": "be54e9a4-49d5-4372-9499-a6a15be33397"
      },
      "execution_count": 4,
      "outputs": [
        {
          "output_type": "stream",
          "name": "stdout",
          "text": [
            "\n",
            "Top Features Predicting Time to Close:\n",
            "SR_SHORT_CODE          0.362236\n",
            "SR_TYPE                0.252654\n",
            "CREATED_DAY_OF_WEEK    0.070090\n",
            "CREATED_HOUR           0.060024\n",
            "WARD                   0.053252\n",
            "COMMUNITY_AREA         0.045222\n",
            "ZIP_CODE               0.043670\n",
            "POLICE_DISTRICT        0.029156\n",
            "ORIGIN                 0.028217\n",
            "ELECTRICAL_DISTRICT    0.022507\n",
            "dtype: float64\n"
          ]
        },
        {
          "output_type": "display_data",
          "data": {
            "text/plain": [
              "<Figure size 1000x500 with 1 Axes>"
            ],
            "image/png": "[encoded data removed]"
          },
          "metadata": {}
        }
      ]
    },
    {
      "cell_type": "markdown",
      "source": [],
      "metadata": {
        "id": "Xm0A8CVXYZdh"
      }
    },
    {
      "cell_type": "code",
      "source": [
        "from sklearn.metrics import mean_absolute_error, mean_squared_error, r2_score\n",
        "\n",
        "# Evaluate model performance\n",
        "y_pred = rf.predict(X_test)\n",
        "\n",
        "mae = mean_absolute_error(y_test, y_pred)\n",
        "rmse = np.sqrt(mean_squared_error(y_test, y_pred))\n",
        "r2 = r2_score(y_test, y_pred)\n",
        "\n",
        "print(\"\\n Model Performance:\")\n",
        "print(f\"MAE  (Mean Absolute Error): {mae:.2f} hours\")\n",
        "print(f\"RMSE (Root Mean Squared Error): {rmse:.2f} hours\")\n",
        "print(f\"R²   (Explained Variance): {r2:.3f}\")"
      ],
      "metadata": {
        "colab": {
          "base_uri": "https://localhost:8080/"
        },
        "id": "YFj7o42mYkKT",
        "outputId": "772682af-623c-4bbf-cd08-705a668fee8e"
      },
      "execution_count": 6,
      "outputs": [
        {
          "output_type": "stream",
          "name": "stdout",
          "text": [
            "\n",
            " Model Performance:\n",
            "MAE  (Mean Absolute Error): 4.67 hours\n",
            "RMSE (Root Mean Squared Error): 16.62 hours\n",
            "R²   (Explained Variance): 0.689\n"
          ]
        }
      ]
    },
    {
      "cell_type": "code",
      "source": [],
      "metadata": {
        "id": "mjTekzK_Z948"
      },
      "execution_count": null,
      "outputs": []
    }
  ]
}