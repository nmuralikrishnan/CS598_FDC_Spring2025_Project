{
  "nbformat": 4,
  "nbformat_minor": 0,
  "metadata": {
    "colab": {
      "provenance": []
    },
    "kernelspec": {
      "name": "python3",
      "display_name": "Python 3"
    },
    "language_info": {
      "name": "python"
    }
  },
  "cells": [
    {
      "cell_type": "code",
      "execution_count": 2,
      "metadata": {
        "id": "rgv2c3L5VSa8"
      },
      "outputs": [],
      "source": [
        "import pandas as pd\n",
        "from sklearn.preprocessing import StandardScaler\n",
        "from sklearn.decomposition import PCA\n",
        "from sklearn.cluster import KMeans\n",
        "import matplotlib.pyplot as plt\n",
        "import numpy as np\n",
        "import seaborn as sns"
      ]
    },
    {
      "cell_type": "code",
      "source": [
        "df = pd.read_excel('311_Service_Requests_20251022.xls')\n",
        "print(df)"
      ],
      "metadata": {
        "colab": {
          "base_uri": "https://localhost:8080/"
        },
        "id": "vUW3_8OUVkcN",
        "outputId": "e9a085ce-c958-42ef-c2de-26f3af85f583"
      },
      "execution_count": 3,
      "outputs": [
        {
          "output_type": "stream",
          "name": "stdout",
          "text": [
            "           SR_NUMBER                      SR_TYPE SR_SHORT_CODE  \\\n",
            "0      SR25-01948318     Aircraft Noise Complaint           AVN   \n",
            "1      SR25-01948317   Street Light Out Complaint           SFD   \n",
            "2      SR25-01948316     Aircraft Noise Complaint           AVN   \n",
            "3      SR25-01948315    311 INFORMATION ONLY CALL        311IOC   \n",
            "4      SR25-01948314     Aircraft Noise Complaint           AVN   \n",
            "...              ...                          ...           ...   \n",
            "65530  SR25-01869126  Pothole in Street Complaint           PHF   \n",
            "65531  SR25-01869125    311 INFORMATION ONLY CALL        311IOC   \n",
            "65532  SR25-01869124    311 INFORMATION ONLY CALL        311IOC   \n",
            "65533  SR25-01869122    311 INFORMATION ONLY CALL        311IOC   \n",
            "65534  SR25-01869121     Aircraft Noise Complaint           AVN   \n",
            "\n",
            "                        CREATED_DEPARTMENT  \\\n",
            "0                                      NaN   \n",
            "1      CDOT - Department of Transportation   \n",
            "2                                      NaN   \n",
            "3                        311 City Services   \n",
            "4                                      NaN   \n",
            "...                                    ...   \n",
            "65530                    311 City Services   \n",
            "65531                    311 City Services   \n",
            "65532                    311 City Services   \n",
            "65533                    311 City Services   \n",
            "65534                                  NaN   \n",
            "\n",
            "                          OWNER_DEPARTMENT     STATUS      ORIGIN  \\\n",
            "0                                 Aviation  Completed    Internet   \n",
            "1      CDOT - Department of Transportation       Open  Phone Call   \n",
            "2                                 Aviation  Completed    Internet   \n",
            "3                        311 City Services  Completed  Phone Call   \n",
            "4                                 Aviation  Completed    Internet   \n",
            "...                                    ...        ...         ...   \n",
            "65530  CDOT - Department of Transportation  Completed  Phone Call   \n",
            "65531                    311 City Services  Completed  Phone Call   \n",
            "65532                    311 City Services  Completed  Phone Call   \n",
            "65533                    311 City Services  Completed  Phone Call   \n",
            "65534                             Aviation  Completed    Internet   \n",
            "\n",
            "             CREATED_DATE  LAST_MODIFIED_DATE         CLOSED_DATE  ...  \\\n",
            "0     2025-10-22 19:15:30 2025-10-22 19:15:31 2025-10-22 19:15:30  ...   \n",
            "1     2025-10-22 19:15:27 2025-10-22 19:15:32                 NaT  ...   \n",
            "2     2025-10-22 19:15:22 2025-10-22 19:15:23 2025-10-22 19:15:22  ...   \n",
            "3     2025-10-22 19:15:02 2025-10-22 19:15:02 2025-10-22 19:15:02  ...   \n",
            "4     2025-10-22 19:14:59 2025-10-22 19:15:00 2025-10-22 19:15:00  ...   \n",
            "...                   ...                 ...                 ...  ...   \n",
            "65530 2025-10-10 23:27:51 2025-10-15 13:23:25 2025-10-15 13:23:25  ...   \n",
            "65531 2025-10-10 23:26:58 2025-10-10 23:31:35 2025-10-10 23:26:58  ...   \n",
            "65532 2025-10-10 23:26:32 2025-10-10 23:31:54 2025-10-10 23:26:32  ...   \n",
            "65533 2025-10-10 23:25:26 2025-10-10 23:31:35 2025-10-10 23:25:26  ...   \n",
            "65534 2025-10-10 23:24:42 2025-10-10 23:31:54 2025-10-10 23:24:42  ...   \n",
            "\n",
            "      PRECINCT SANITATION_DIVISION_DAYS CREATED_HOUR  CREATED_DAY_OF_WEEK  \\\n",
            "0          NaN                      NaN           19                    4   \n",
            "1         31.0                      NaN           19                    4   \n",
            "2          NaN                      NaN           19                    4   \n",
            "3          NaN                      NaN           19                    4   \n",
            "4          NaN                      NaN           19                    4   \n",
            "...        ...                      ...          ...                  ...   \n",
            "65530     42.0                      NaN           23                    6   \n",
            "65531     46.0                      NaN           23                    6   \n",
            "65532     46.0                      NaN           23                    6   \n",
            "65533     46.0                      NaN           23                    6   \n",
            "65534     27.0                      NaN           23                    6   \n",
            "\n",
            "      CREATED_MONTH  X_COORDINATE  Y_COORDINATE   LATITUDE  LONGITUDE  \\\n",
            "0                10           NaN           NaN        NaN        NaN   \n",
            "1                10  1.166691e+06  1.859599e+06  41.770312 -87.664538   \n",
            "2                10           NaN           NaN        NaN        NaN   \n",
            "3                10           NaN           NaN        NaN        NaN   \n",
            "4                10           NaN           NaN        NaN        NaN   \n",
            "...             ...           ...           ...        ...        ...   \n",
            "65530            10  1.193190e+06  1.837132e+06  41.708054 -87.568140   \n",
            "65531            10  1.162234e+06  1.896561e+06  41.871834 -87.679845   \n",
            "65532            10  1.162234e+06  1.896561e+06  41.871834 -87.679845   \n",
            "65533            10  1.162234e+06  1.896561e+06  41.871834 -87.679845   \n",
            "65534            10  1.105377e+06  1.941044e+06  41.994900 -87.887749   \n",
            "\n",
            "                                  LOCATION  \n",
            "0                                      NaN  \n",
            "1      (41.770311645276, -87.664538011545)  \n",
            "2                                      NaN  \n",
            "3                                      NaN  \n",
            "4                                      NaN  \n",
            "...                                    ...  \n",
            "65530  (41.708054228772, -87.568139872643)  \n",
            "65531   (41.87183400094, -87.679845000002)  \n",
            "65532   (41.87183400094, -87.679845000002)  \n",
            "65533   (41.87183400094, -87.679845000002)  \n",
            "65534  (41.994900000941, -87.887749500002)  \n",
            "\n",
            "[65535 rows x 39 columns]\n"
          ]
        }
      ]
    },
    {
      "cell_type": "code",
      "source": [],
      "metadata": {
        "id": "lGlLo3ntWOCi"
      },
      "execution_count": null,
      "outputs": []
    }
  ]
}